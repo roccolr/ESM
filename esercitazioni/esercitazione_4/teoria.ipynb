{
 "cells": [
  {
   "cell_type": "code",
   "execution_count": null,
   "metadata": {},
   "outputs": [],
   "source": [
    "import numpy as np \n",
    "import matplotlib.pyplot as plt\n",
    "import scipy.ndimage as ndi         # qui ci sono i metodi per realizzare i filtri\n",
    "import skimage.io as io \n",
    "import skimage.exposure as exp\n",
    "import os \n",
    "os.chdir('../../')\n",
    "import my_modules.histogramop as hope\n",
    "import my_modules.my_lib as lib\n",
    "import immagini.Immagini.bitop as bit\n",
    "from skimage.transform import rescale\n",
    "from skimage.transform import warp\n",
    "\n",
    "path = 'C:\\\\Users\\\\rocco\\\\Documents\\\\università\\\\ESM\\\\laboratorio\\\\Immagini\\\\'"
   ]
  },
  {
   "cell_type": "code",
   "execution_count": null,
   "metadata": {},
   "outputs": [],
   "source": [
    "# trasformata di fourier\n",
    "\n",
    "im = path + 'rettangolo.jpg'\n",
    "\n",
    "x = np.float32(io.imread(im))\n",
    "y = np.fft.fft2(x)\n",
    "\n",
    "plt.figure(1)\n",
    "plt.imshow(x, clim=None, cmap='gray')\n",
    "plt.figure(2)\n",
    "plt.imshow(y, clim=None, cmap='gray')"
   ]
  },
  {
   "cell_type": "code",
   "execution_count": null,
   "metadata": {},
   "outputs": [],
   "source": [
    "# esercizio 2\n",
    "\n",
    "im = path + 'volto.tif'\n",
    "\n",
    "x = np.float32(io.imread(im))\n",
    "X = np.fft.fftshift(np.fft.fft2(x))\n",
    "\n",
    "plt.figure(1)\n",
    "plt.imshow(x, clim=None, cmap='gray')\n",
    "plt.figure(2)\n",
    "plt.imshow(np.log(1+np.abs(X)), clim=None, cmap='gray', extent=(-0.5, +0.5, +0.5, -0.5))\n",
    "plt.figure(3)\n",
    "plt.imshow(np.angle(X), clim=None, cmap='gray', extent=(-0.5, +0.5, +0.5, -0.5))"
   ]
  }
 ],
 "metadata": {
  "kernelspec": {
   "display_name": "esm_env",
   "language": "python",
   "name": "python3"
  },
  "language_info": {
   "codemirror_mode": {
    "name": "ipython",
    "version": 3
   },
   "file_extension": ".py",
   "mimetype": "text/x-python",
   "name": "python",
   "nbconvert_exporter": "python",
   "pygments_lexer": "ipython3",
   "version": "3.13.2"
  }
 },
 "nbformat": 4,
 "nbformat_minor": 2
}
